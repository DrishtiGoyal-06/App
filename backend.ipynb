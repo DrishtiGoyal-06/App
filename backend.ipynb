{
 "cells": [
  {
   "cell_type": "code",
   "execution_count": null,
   "id": "d8c3c52c-24ec-4a09-b8d8-45a3d831df23",
   "metadata": {},
   "outputs": [
    {
     "name": "stdout",
     "output_type": "stream",
     "text": [
      " * Serving Flask app '__main__'\n",
      " * Debug mode: off\n"
     ]
    },
    {
     "name": "stderr",
     "output_type": "stream",
     "text": [
      "WARNING: This is a development server. Do not use it in a production deployment. Use a production WSGI server instead.\n",
      " * Running on http://127.0.0.1:8080\n",
      "Press CTRL+C to quit\n",
      "127.0.0.1 - - [21/Feb/2025 17:35:35] \"GET / HTTP/1.1\" 404 -\n",
      "127.0.0.1 - - [21/Feb/2025 17:36:01] \"GET /bfhl HTTP/1.1\" 200 -\n"
     ]
    }
   ],
   "source": [
    "\n",
    "from flask import Flask, request, jsonify\n",
    "\n",
    "app = Flask(__name__)\n",
    "\n",
    "def is_number(s):\n",
    "    return s.isdigit()\n",
    "\n",
    "@app.route('/bfhl', methods=['POST'])\n",
    "\n",
    "\n",
    "\n",
    "# GET method - /bfhl\n",
    "@app.route('/bfhl', methods=['GET'])\n",
    "def get_operation_code():\n",
    "    return jsonify({\"operation_code\": 1}), 200\n",
    "\n",
    "# POST method - /bfhl\n",
    "@app.route('/bfhl', methods=['POST'])\n",
    "def process_data():\n",
    "    try:\n",
    "        data = request.json.get(\"data\", [])\n",
    "        numbers = [x for x in data if x.isdigit()]\n",
    "        alphabets = [x for x in data if x.isalpha()]\n",
    "        highest_alphabet = max(alphabets, key=lambda c: c.upper(), default=\"\")\n",
    "\n",
    "        response = {\n",
    "            \"is_success\": True,\n",
    "            \"user_id\": \"john_doe_17091999\",\n",
    "            \"email\": \"john@xyz.com\",\n",
    "            \"roll_number\": \"ABCD123\",\n",
    "            \"numbers\": numbers,\n",
    "            \"alphabets\": alphabets,\n",
    "            \"highest_alphabet\": [highest_alphabet] if highest_alphabet else []\n",
    "        }\n",
    "        return jsonify(response), 200\n",
    "    except Exception as e:\n",
    "        return jsonify({\"is_success\": False, \"error\": str(e)}), 400\n",
    "\n",
    "if __name__ == '__main__':\n",
    "    app.run(port=8080)\n",
    "\n",
    "def process_data():\n",
    "    try:\n",
    "        data = request.json\n",
    "        if \"data\" not in data or not isinstance(data[\"data\"], list):\n",
    "            return jsonify({\"is_success\": False, \"error\": \"Invalid JSON format\"}), 400\n",
    "\n",
    "        numbers = [x for x in data[\"data\"] if is_number(x)]\n",
    "        alphabets = [x for x in data[\"data\"] if x.isalpha()]\n",
    "        highest_alphabet = max(alphabets, key=str.lower) if alphabets else None\n",
    "\n",
    "        response = {\n",
    "            \"is_success\": True,\n",
    "            \"user_id\": \"john_doe_17091999\",\n",
    "            \"email\": \"john@xyz.com\",\n",
    "            \"roll_number\": \"ABCD123\",\n",
    "            \"numbers\": numbers,\n",
    "            \"alphabets\": alphabets,\n",
    "            \"highest_alphabet\": [highest_alphabet] if highest_alphabet else []\n",
    "        }\n",
    "        return jsonify(response)\n",
    "\n",
    "    except Exception as e:\n",
    "        return jsonify({\"is_success\": False, \"error\": str(e)}), 500\n",
    "\n",
    "@app.route('/bfhl', methods=['GET'])\n",
    "def get_operation_code():\n",
    "    return jsonify({\"operation_code\": 1})\n",
    "if __name__ == '__main__':\n",
    "    app.run(port=8080)\n",
    "\n",
    "\n"
   ]
  },
  {
   "cell_type": "code",
   "execution_count": 14,
   "id": "2f5397db-ecbb-400d-8431-fea7355b3a9d",
   "metadata": {},
   "outputs": [],
   "source": []
  },
  {
   "cell_type": "code",
   "execution_count": null,
   "id": "3a642818-1dac-475a-aab4-b81330bd5383",
   "metadata": {},
   "outputs": [],
   "source": []
  },
  {
   "cell_type": "code",
   "execution_count": null,
   "id": "33d2982e-edd4-4a65-bdf4-3726e6a26fc4",
   "metadata": {},
   "outputs": [],
   "source": []
  },
  {
   "cell_type": "code",
   "execution_count": null,
   "id": "9a92319a-3a05-440e-b55b-99dbb03e2cf5",
   "metadata": {},
   "outputs": [],
   "source": []
  },
  {
   "cell_type": "code",
   "execution_count": null,
   "id": "b277e98d-fafb-4895-88e1-60fb1230f1f9",
   "metadata": {},
   "outputs": [],
   "source": []
  }
 ],
 "metadata": {
  "kernelspec": {
   "display_name": "Python 3 (ipykernel)",
   "language": "python",
   "name": "python3"
  },
  "language_info": {
   "codemirror_mode": {
    "name": "ipython",
    "version": 3
   },
   "file_extension": ".py",
   "mimetype": "text/x-python",
   "name": "python",
   "nbconvert_exporter": "python",
   "pygments_lexer": "ipython3",
   "version": "3.12.4"
  }
 },
 "nbformat": 4,
 "nbformat_minor": 5
}
