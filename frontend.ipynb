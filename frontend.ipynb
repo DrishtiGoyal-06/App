{
 "cells": [
  {
   "cell_type": "code",
   "execution_count": 1,
   "id": "f2af1f3f-2f8d-4335-9f2e-e0e5b385213a",
   "metadata": {},
   "outputs": [],
   "source": [
    "import requests\n",
    "import tkinter as tk\n",
    "from tkinter import messagebox\n",
    "\n",
    "API_URL = \"http://localhost:8080/bfhl\"\n",
    "\n",
    "def send_post_request():\n",
    "    user_input = entry.get()\n",
    "    try:\n",
    "        data = {\"data\": user_input.split()}\n",
    "        response = requests.post(API_URL, json=data)\n",
    "        result = response.json()\n",
    "        messagebox.showinfo(\"Response\", f\"Server Response:\\n{result}\")\n",
    "    except Exception as e:\n",
    "        messagebox.showerror(\"Error\", f\"Failed to connect: {str(e)}\")\n",
    "\n",
    "def send_get_request():\n",
    "    try:\n",
    "        response = requests.get(API_URL)\n",
    "        result = response.json()\n",
    "        messagebox.showinfo(\"Response\", f\"Server Response:\\n{result}\")\n",
    "    except Exception as e:\n",
    "        messagebox.showerror(\"Error\", f\"Failed to connect: {str(e)}\")\n",
    "\n",
    "# Create the GUI\n",
    "root = tk.Tk()\n",
    "root.title(\"API Client\")\n",
    "root.geometry(\"400x250\")\n",
    "\n",
    "label = tk.Label(root, text=\"Enter Data (space-separated):\")\n",
    "label.pack(pady=5)\n",
    "\n",
    "entry = tk.Entry(root, width=50)\n",
    "entry.pack(pady=5)\n",
    "\n",
    "post_button = tk.Button(root, text=\"Send POST Request\", command=send_post_request)\n",
    "post_button.pack(pady=5)\n",
    "\n",
    "get_button = tk.Button(root, text=\"Send GET Request\", command=send_get_request)\n",
    "get_button.pack(pady=5)\n",
    "\n",
    "root.mainloop()\n"
   ]
  },
  {
   "cell_type": "code",
   "execution_count": null,
   "id": "c177e4af-06ac-45ee-8393-8eed26a31ca4",
   "metadata": {},
   "outputs": [],
   "source": []
  }
 ],
 "metadata": {
  "kernelspec": {
   "display_name": "Python 3 (ipykernel)",
   "language": "python",
   "name": "python3"
  },
  "language_info": {
   "codemirror_mode": {
    "name": "ipython",
    "version": 3
   },
   "file_extension": ".py",
   "mimetype": "text/x-python",
   "name": "python",
   "nbconvert_exporter": "python",
   "pygments_lexer": "ipython3",
   "version": "3.12.4"
  }
 },
 "nbformat": 4,
 "nbformat_minor": 5
}
